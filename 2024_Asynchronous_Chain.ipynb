{
  "nbformat": 4,
  "nbformat_minor": 0,
  "metadata": {
    "colab": {
      "provenance": [],
      "authorship_tag": "ABX9TyMcqrP6Oc8XS3jdYphMbSC0"
    },
    "kernelspec": {
      "name": "python3",
      "display_name": "Python 3"
    },
    "language_info": {
      "name": "python"
    }
  },
  "cells": [
    {
      "cell_type": "code",
      "execution_count": 1,
      "metadata": {
        "id": "owTgREt5_9hX"
      },
      "outputs": [],
      "source": [
        "!pip install -q -U langchain langchain-openai"
      ]
    },
    {
      "cell_type": "code",
      "source": [
        "import os\n",
        "import getpass\n",
        "\n",
        "if \"OPENAI_API_KEY\" not in os.environ:\n",
        "    os.environ[\"OPENAI_API_KEY\"] = getpass.getpass(\"Enter your OpenAI API key: \")"
      ],
      "metadata": {
        "colab": {
          "base_uri": "https://localhost:8080/"
        },
        "id": "gGgQek8QAKlT",
        "outputId": "da1d26ea-d10d-46a4-fad6-4de8ca0e87ec"
      },
      "execution_count": 2,
      "outputs": [
        {
          "name": "stdout",
          "output_type": "stream",
          "text": [
            "Enter your OpenAI API key: ··········\n"
          ]
        }
      ]
    },
    {
      "cell_type": "code",
      "source": [
        "from langchain_openai import ChatOpenAI\n",
        "from langchain.prompts import PromptTemplate\n",
        "\n",
        "# Define your LangChain components\n",
        "llm = ChatOpenAI(model_name='gpt-4o-mini')\n",
        "\n",
        "template = \"Translate the following English text to German: {text}\"\n",
        "prompt = PromptTemplate(template=template, input_variables=[\"text\"])\n",
        "\n",
        "chain = prompt | llm\n",
        "\n",
        "# Define a sync function to run the chain\n",
        "def run_chain_sync(text):\n",
        "    resp = chain.invoke({\"text\": text})\n",
        "    return resp\n",
        "\n",
        "# Define an async function to run the chain\n",
        "async def run_chain_async(text):\n",
        "    a_resp = await chain.ainvoke({\"text\": text})\n",
        "    return a_resp\n",
        "\n",
        "result = run_chain_sync(\"Hello, what is your name?\")\n",
        "print(result.content)\n",
        "\n",
        "a_result = await run_chain_async(\"Hello, how are you?\")\n",
        "print(a_result.content)"
      ],
      "metadata": {
        "colab": {
          "base_uri": "https://localhost:8080/"
        },
        "id": "6k1qXzi5ADdo",
        "outputId": "9e8807a7-cf12-4eaa-961a-46840f483f71"
      },
      "execution_count": 8,
      "outputs": [
        {
          "output_type": "stream",
          "name": "stdout",
          "text": [
            "Hallo, wie heißen Sie?\n",
            "Hello, how are you? in German is: Hallo, wie geht es dir?\n"
          ]
        }
      ]
    }
  ]
}